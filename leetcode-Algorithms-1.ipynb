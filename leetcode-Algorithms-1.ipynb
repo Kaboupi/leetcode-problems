{
 "cells": [
  {
   "attachments": {},
   "cell_type": "markdown",
   "metadata": {},
   "source": [
    "<p style=\"text-align: center\">\n",
    "<span style=\"color:orange;font-size:70px\"><strong>Algorithm 1</strong></span>\n",
    "</p>"
   ]
  },
  {
   "attachments": {},
   "cell_type": "markdown",
   "metadata": {},
   "source": [
    "## **Day 1 - Binary Search**"
   ]
  },
  {
   "attachments": {},
   "cell_type": "markdown",
   "metadata": {},
   "source": [
    "### <span style=\"color:green;\">704. Binary Search</span>"
   ]
  },
  {
   "cell_type": "code",
   "execution_count": 20,
   "metadata": {},
   "outputs": [],
   "source": [
    "from typing import List\n",
    "\n",
    "class Solution:\n",
    "    def search(self, nums: List[int], target: int) -> int:\n",
    "        \"\"\"\n",
    "        ### Бинарный поиск индекса элемента в списке\n",
    "        Input: nums: List[int] - список, target: int - искомый элемент\n",
    "        Output: idx\n",
    "        \"\"\"\n",
    "        left = 0\n",
    "        right = len(nums) - 1\n",
    "        \n",
    "        while left <= right:\n",
    "            mid = (left + right) // 2\n",
    "            \n",
    "            if nums[mid] == target:\n",
    "                return mid\n",
    "            elif nums[mid] < target:\n",
    "                left = mid + 1                        \n",
    "            else:\n",
    "                right = mid - 1\n",
    "        \n",
    "        return -1"
   ]
  },
  {
   "cell_type": "code",
   "execution_count": 21,
   "metadata": {},
   "outputs": [
    {
     "data": {
      "text/plain": [
       "4"
      ]
     },
     "execution_count": 21,
     "metadata": {},
     "output_type": "execute_result"
    }
   ],
   "source": [
    "nums = [-1, 0, 3, 5, 9, 12]\n",
    "target = 9\n",
    "\n",
    "obj = Solution().search(nums, target)\n",
    "\n",
    "obj"
   ]
  },
  {
   "attachments": {},
   "cell_type": "markdown",
   "metadata": {},
   "source": [
    "### <span style=\"color:green;\">278. First Bad Version</span>"
   ]
  },
  {
   "cell_type": "code",
   "execution_count": 34,
   "metadata": {},
   "outputs": [],
   "source": [
    "# The isBadVersion API is already defined for you.\n",
    "def isBadVersion(version: int) -> bool:\n",
    "    pass\n",
    "\n",
    "class Solution:\n",
    "    def firstBadVersion(self, n: int) -> int:\n",
    "        left, right = 1, n\n",
    "        result = 1\n",
    "        \n",
    "        while left <= right:\n",
    "            mid = (left + right) // 2\n",
    "            if not isBadVersion(mid):\n",
    "                left = mid + 1\n",
    "            else:\n",
    "                right = mid - 1\n",
    "                result = mid\n",
    "                \n",
    "        return result"
   ]
  },
  {
   "attachments": {},
   "cell_type": "markdown",
   "metadata": {},
   "source": [
    "### 35. Search Insert Position"
   ]
  },
  {
   "cell_type": "code",
   "execution_count": 23,
   "metadata": {},
   "outputs": [],
   "source": [
    "from typing import List\n",
    "\n",
    "class Solution:\n",
    "    def searchInsert(self, nums: List[int], target: int) -> int:\n",
    "        \"\"\"\n",
    "        ### Бинарный поиск вставки элемента в массив\n",
    "        Input: nums: List[int] - список, target: int - вставляемый элемент\n",
    "        Output: idx - индекс позиции вставки\n",
    "        \"\"\"\n",
    "        left, right = 0, len(nums)\n",
    "        \n",
    "        while left < right:\n",
    "            mid = (left + right) // 2\n",
    "            \n",
    "            if nums[mid] >= target:\n",
    "                right = mid\n",
    "            else:\n",
    "                left = mid + 1\n",
    "                \n",
    "        return left"
   ]
  },
  {
   "cell_type": "code",
   "execution_count": 24,
   "metadata": {},
   "outputs": [
    {
     "data": {
      "text/plain": [
       "2"
      ]
     },
     "execution_count": 24,
     "metadata": {},
     "output_type": "execute_result"
    }
   ],
   "source": [
    "nums = [1, 3, 5, 6]\n",
    "target = 5\n",
    "\n",
    "obj = Solution().searchInsert(nums, target)\n",
    "\n",
    "obj"
   ]
  },
  {
   "attachments": {},
   "cell_type": "markdown",
   "metadata": {},
   "source": [
    "## **Day 2 - Two Pointers**"
   ]
  },
  {
   "attachments": {},
   "cell_type": "markdown",
   "metadata": {},
   "source": [
    "### <span style=\"color:green;\">977. Squares of a Sorted Array</span>"
   ]
  },
  {
   "cell_type": "code",
   "execution_count": 25,
   "metadata": {},
   "outputs": [],
   "source": [
    "from typing import List\n",
    "\n",
    "class Solution:\n",
    "    def sortedSquares(self, nums: List[int]) -> List[int]:\n",
    "        idx = len(nums)\n",
    "        left, right = 0, idx - 1\n",
    "        back_iter = idx - 1\n",
    "        li_res = [0] * idx\n",
    "        \n",
    "        while left <= right:\n",
    "            if abs(nums[left]) < abs(nums[right]):\n",
    "                li_res[back_iter] = nums[right] ** 2\n",
    "                right -= 1\n",
    "            else:\n",
    "                li_res[back_iter] = nums[left] ** 2\n",
    "                left += 1\n",
    "            back_iter -= 1\n",
    "            \n",
    "        return li_res"
   ]
  },
  {
   "cell_type": "code",
   "execution_count": 26,
   "metadata": {},
   "outputs": [
    {
     "data": {
      "text/plain": [
       "[0, 1, 1, 4, 9, 16, 100]"
      ]
     },
     "execution_count": 26,
     "metadata": {},
     "output_type": "execute_result"
    }
   ],
   "source": [
    "nums = [-4, -1, 0, 1, 2, 3, 10]\n",
    "\n",
    "obj = Solution().sortedSquares(nums)\n",
    "\n",
    "obj"
   ]
  },
  {
   "attachments": {},
   "cell_type": "markdown",
   "metadata": {},
   "source": [
    "### <span style=\"color:yellow;\">189. Rotate Array</span>"
   ]
  },
  {
   "cell_type": "code",
   "execution_count": 27,
   "metadata": {},
   "outputs": [],
   "source": [
    "from typing import List\n",
    "\n",
    "class Solution:\n",
    "    def rotate(self, nums: List[int], k: int) -> None:\n",
    "        \"\"\"\n",
    "        Do not return anything, modify nums in-place instead.\n",
    "        \"\"\"\n",
    "        r = k % len(nums)\n",
    "        f, s = nums[-r:], nums[:-r]\n",
    "        \n",
    "        for i in range(len(f)):\n",
    "            nums[i] = f[i]\n",
    "            \n",
    "        for i in range(len(s)):\n",
    "            nums[i + len(f)] = s[i]\n",
    "            \n",
    "        # print(nums)"
   ]
  },
  {
   "cell_type": "code",
   "execution_count": 28,
   "metadata": {},
   "outputs": [],
   "source": [
    "nums = [1, 2, 3, 4, 5, 6, 7]\n",
    "\n",
    "k = 5\n",
    "Solution().rotate(nums, k)"
   ]
  },
  {
   "attachments": {},
   "cell_type": "markdown",
   "metadata": {},
   "source": [
    "## **Day 3 - Two Pointers**"
   ]
  },
  {
   "attachments": {},
   "cell_type": "markdown",
   "metadata": {},
   "source": [
    "### <span style=\"color:green;\">283. Move Zeroes</span>"
   ]
  },
  {
   "attachments": {},
   "cell_type": "markdown",
   "metadata": {},
   "source": [
    "### <span style=\"color:yellow;\">167. Two Sum II - Input Array Is Sorted</span>"
   ]
  },
  {
   "cell_type": "code",
   "execution_count": 29,
   "metadata": {},
   "outputs": [],
   "source": [
    "from typing import List\n",
    "\n",
    "class Solution:\n",
    "    def twoSum(self, numbers: List[int], target: int) -> List[int]:\n",
    "        left, right = 0, len(numbers) - 1\n",
    "        sum = 0\n",
    "        \n",
    "        while left < right:\n",
    "            sum = numbers[left] + numbers[right]\n",
    "            \n",
    "            if sum == target:\n",
    "                return [left + 1, right + 1]\n",
    "            if sum < target:\n",
    "                left += 1\n",
    "                continue\n",
    "            right -= 1\n",
    "        \n",
    "        return [-1, -1]"
   ]
  },
  {
   "cell_type": "code",
   "execution_count": 30,
   "metadata": {},
   "outputs": [
    {
     "data": {
      "text/plain": [
       "[1, 2]"
      ]
     },
     "execution_count": 30,
     "metadata": {},
     "output_type": "execute_result"
    }
   ],
   "source": [
    "numbers = [2,7,11,15]\n",
    "target = 9\n",
    "\n",
    "Solution().twoSum(numbers, target)"
   ]
  },
  {
   "attachments": {},
   "cell_type": "markdown",
   "metadata": {},
   "source": [
    "## **Day 4 - Two Pointers**"
   ]
  },
  {
   "attachments": {},
   "cell_type": "markdown",
   "metadata": {},
   "source": [
    "### <span style=\"color:green;\">344. Reverse String </span>"
   ]
  },
  {
   "cell_type": "code",
   "execution_count": 31,
   "metadata": {},
   "outputs": [],
   "source": [
    "from typing import List\n",
    "\n",
    "class Solution:\n",
    "    def reverseString(self, s: List[str]) -> None:\n",
    "        size = len(s)\n",
    "        back_iter = size - 1\n",
    "        for i in range(size // 2):\n",
    "            t = s[i]\n",
    "            s[i] = s[back_iter]\n",
    "            s[back_iter] = t\n",
    "            back_iter -= 1\n",
    "            \n",
    "        # print(s)"
   ]
  },
  {
   "cell_type": "code",
   "execution_count": 32,
   "metadata": {},
   "outputs": [],
   "source": [
    "s = [\"h\",\"e\",\"l\",\"l\",\"o\"]\n",
    "\n",
    "Solution().reverseString(s)"
   ]
  },
  {
   "attachments": {},
   "cell_type": "markdown",
   "metadata": {},
   "source": [
    "### <span style=\"color:green;\">557. Reverse Words in a String III</span>"
   ]
  },
  {
   "cell_type": "code",
   "execution_count": 36,
   "metadata": {},
   "outputs": [],
   "source": [
    "class Solution:\n",
    "    def reverseWords(self, s: str) -> str:\n",
    "        li = s.split()\n",
    "        res = \"\"\n",
    "        \n",
    "        for  i in range(len(li)):\n",
    "            res += li[i][::-1]\n",
    "            \n",
    "            if i != len(li)-1:\n",
    "                res+=\" \"\n",
    "                \n",
    "        return res"
   ]
  },
  {
   "cell_type": "code",
   "execution_count": 37,
   "metadata": {},
   "outputs": [
    {
     "data": {
      "text/plain": [
       "\"s'teL ekat edoCteeL tsetnoc\""
      ]
     },
     "execution_count": 37,
     "metadata": {},
     "output_type": "execute_result"
    }
   ],
   "source": [
    "s = \"Let's take LeetCode contest\"\n",
    "\n",
    "Solution().reverseWords(s)"
   ]
  },
  {
   "attachments": {},
   "cell_type": "markdown",
   "metadata": {},
   "source": [
    "## **Day 5 - Two Pointers**"
   ]
  },
  {
   "attachments": {},
   "cell_type": "markdown",
   "metadata": {},
   "source": [
    "### <span style=\"color:green;\">876. Middle of the Linked List</span>"
   ]
  },
  {
   "cell_type": "code",
   "execution_count": 149,
   "metadata": {},
   "outputs": [],
   "source": [
    "from typing import Optional\n",
    "\n",
    "# Definition for singly-linked list.\n",
    "class ListNode:\n",
    "    def __init__(self, val=0, next=None):\n",
    "        self.val = val\n",
    "        self.next = next\n",
    "\n",
    "class Solution:\n",
    "    def middleNode(self, head: Optional[ListNode]) -> Optional[ListNode]:\n",
    "        slow = fast = head\n",
    "        while fast and fast.next:\n",
    "            slow = slow.next\n",
    "            fast = fast.next.next\n",
    "        return slow"
   ]
  },
  {
   "attachments": {},
   "cell_type": "markdown",
   "metadata": {},
   "source": [
    "### <span style=\"color:yellow;\">19. Remove Nth Node From End of List</span>"
   ]
  },
  {
   "attachments": {},
   "cell_type": "markdown",
   "metadata": {},
   "source": [
    "## **Day 6 - Sliding Window**"
   ]
  },
  {
   "attachments": {},
   "cell_type": "markdown",
   "metadata": {},
   "source": [
    "### <span style=\"color:yellow;\">3. Longest Substring Without Repeating Characters</span>"
   ]
  },
  {
   "cell_type": "code",
   "execution_count": 56,
   "metadata": {},
   "outputs": [],
   "source": [
    "class Solution:\n",
    "    def lengthOfLongestSubstring(self, s: str) -> int:\n",
    "        charSet = set()\n",
    "        l, res = 0, 0\n",
    "        \n",
    "        for r in range(len(s)):\n",
    "            while s[r] in charSet:\n",
    "                charSet.remove(s[l])\n",
    "                l += 1\n",
    "                \n",
    "            charSet.add(s[r])\n",
    "            res = max(res, r - l + 1)\n",
    "        \n",
    "        return res"
   ]
  },
  {
   "cell_type": "code",
   "execution_count": 58,
   "metadata": {},
   "outputs": [
    {
     "name": "stdout",
     "output_type": "stream",
     "text": [
      "Wall time: 0 ns\n"
     ]
    },
    {
     "data": {
      "text/plain": [
       "3"
      ]
     },
     "execution_count": 58,
     "metadata": {},
     "output_type": "execute_result"
    }
   ],
   "source": [
    "s = \"abcabcbb\"\n",
    "\n",
    "Solution().lengthOfLongestSubstring(s)"
   ]
  },
  {
   "attachments": {},
   "cell_type": "markdown",
   "metadata": {},
   "source": [
    "### <span style=\"color:yellow;\">567. Permutation in String</span>"
   ]
  },
  {
   "cell_type": "code",
   "execution_count": 111,
   "metadata": {},
   "outputs": [],
   "source": [
    "class Solution:\n",
    "    def checkInclusion(self, s1: str, s2: str) -> bool:\n",
    "        if len(s1) > len(s2):\n",
    "            return False\n",
    "\n",
    "        s1dict, s2dict = {}, {}\n",
    "        \n",
    "        for i in range(len(s1)):\n",
    "            s1dict[s1[i]] = 1 + s1dict.get(s1[i], 0)\n",
    "            s2dict[s2[i]] = 1 + s2dict.get(s2[i], 0)\n",
    "        \n",
    "\n",
    "        l = 0\n",
    "        \n",
    "        for r in range(len(s1), len(s2)):\n",
    "            if s1dict == s2dict:\n",
    "                return True\n",
    "\n",
    "            s2dict[s2[r]] = 1 + s2dict.get(s2[r], 0)\n",
    "            s2dict[s2[l]] -= 1\n",
    "            \n",
    "            if s2dict[s2[l]] == 0:\n",
    "                s2dict.pop(s2[l])\n",
    "                \n",
    "            l += 1\n",
    "        \n",
    "        return s1dict == s2dict"
   ]
  },
  {
   "cell_type": "code",
   "execution_count": 112,
   "metadata": {},
   "outputs": [
    {
     "data": {
      "text/plain": [
       "True"
      ]
     },
     "execution_count": 112,
     "metadata": {},
     "output_type": "execute_result"
    }
   ],
   "source": [
    "s1 = \"ab\"\n",
    "s2 = \"eidbaooo\"\n",
    "\n",
    "Solution().checkInclusion(s1, s2)"
   ]
  },
  {
   "attachments": {},
   "cell_type": "markdown",
   "metadata": {},
   "source": [
    "## **Day 7 Breadth-First Search / Depth-First Search**"
   ]
  },
  {
   "attachments": {},
   "cell_type": "markdown",
   "metadata": {},
   "source": [
    "### <span style=\"color:green;\">733. Flood Fill</span>"
   ]
  },
  {
   "cell_type": "code",
   "execution_count": 131,
   "metadata": {},
   "outputs": [],
   "source": [
    "from typing import List\n",
    "\n",
    "class Solution(object):\n",
    "    def fill(self, image: List[List[int]], sr: int, sc: int, color: int, cur: int):\n",
    "        \n",
    "        if sr < 0 or sr >= len(image) or sc < 0 or sc >= len(image[0]):\n",
    "            return\n",
    "        \n",
    "        if cur != image[sr][sc]:\n",
    "            return\n",
    "        \n",
    "        image[sr][sc] = color\n",
    "        \n",
    "        self.fill(image, sr - 1, sc, color, cur)\n",
    "        self.fill(image, sr + 1, sc, color, cur)\n",
    "        self.fill(image, sr, sc - 1, color, cur)\n",
    "        self.fill(image, sr, sc + 1, color, cur)\n",
    "\n",
    "\n",
    "    def floodFill(self, image: List[List[int]], sr: int, sc: int, color: int) -> List[List[int]]:\n",
    "        if image[sr][sc] == color:\n",
    "            return image\n",
    "        \n",
    "        self.fill(image, sr, sc, color, image[sr][sc])\n",
    "        return image\n",
    "        "
   ]
  },
  {
   "cell_type": "code",
   "execution_count": 132,
   "metadata": {},
   "outputs": [
    {
     "data": {
      "text/plain": [
       "[[2, 2, 2], [2, 2, 0], [2, 0, 1]]"
      ]
     },
     "execution_count": 132,
     "metadata": {},
     "output_type": "execute_result"
    }
   ],
   "source": [
    "image = [[1,1,1],[1,1,0],[1,0,1]]\n",
    "sr = 1\n",
    "sc = 1\n",
    "color = 2\n",
    "\n",
    "Solution().floodFill(image, sr, sc, color)"
   ]
  },
  {
   "attachments": {},
   "cell_type": "markdown",
   "metadata": {},
   "source": [
    "### <span style=\"color:yellow;\">695. Max Area of Island</span>"
   ]
  },
  {
   "cell_type": "code",
   "execution_count": 145,
   "metadata": {},
   "outputs": [],
   "source": [
    "from typing import List\n",
    "\n",
    "class Solution:\n",
    "    def maxAreaOfIsland(self, grid: List[List[int]]) -> int:\n",
    "        m, n = len(grid), len(grid[0])\n",
    "        max_area = 0\n",
    "        \n",
    "        def checkArea(i: int, j: int):\n",
    "            if i < 0 or i >= m or j < 0 or j >= n or grid[i][j] == 0:\n",
    "                return 0\n",
    "            \n",
    "            grid[i][j] = 0\n",
    "            \n",
    "            return 1 + checkArea(i+1, j) + checkArea(i-1, j) + checkArea(i, j+1) + checkArea(i, j-1)\n",
    "        \n",
    "        for i in range(m):\n",
    "            for j in range(n):\n",
    "                if grid[i][j] == 1:\n",
    "                    max_area = max(max_area, checkArea(i, j))\n",
    "                    \n",
    "        return max_area"
   ]
  },
  {
   "cell_type": "code",
   "execution_count": 148,
   "metadata": {},
   "outputs": [
    {
     "data": {
      "text/plain": [
       "6"
      ]
     },
     "execution_count": 148,
     "metadata": {},
     "output_type": "execute_result"
    }
   ],
   "source": [
    "grid = [[0,0,1,0,0,0,0,1,0,0,0,0,0],\n",
    "        [0,0,0,0,0,0,0,1,1,1,0,0,0],\n",
    "        [0,1,1,0,1,0,0,0,0,0,0,0,0],\n",
    "        [0,1,0,0,1,1,0,0,1,0,1,0,0],\n",
    "        [0,1,0,0,1,1,0,0,1,1,1,0,0],\n",
    "        [0,0,0,0,0,0,0,0,0,0,1,0,0],\n",
    "        [0,0,0,0,0,0,0,1,1,1,0,0,0],\n",
    "        [0,0,0,0,0,0,0,1,1,0,0,0,0]]\n",
    "\n",
    "Solution().maxAreaOfIsland(grid)"
   ]
  }
 ],
 "metadata": {
  "kernelspec": {
   "display_name": "Python 3",
   "language": "python",
   "name": "python3"
  },
  "language_info": {
   "codemirror_mode": {
    "name": "ipython",
    "version": 3
   },
   "file_extension": ".py",
   "mimetype": "text/x-python",
   "name": "python",
   "nbconvert_exporter": "python",
   "pygments_lexer": "ipython3",
   "version": "3.9.13"
  },
  "orig_nbformat": 4,
  "vscode": {
   "interpreter": {
    "hash": "b348351ff64ef7b8239b01d02f7050e1a14691eae76471a4c9b3066032a9fe46"
   }
  }
 },
 "nbformat": 4,
 "nbformat_minor": 2
}
